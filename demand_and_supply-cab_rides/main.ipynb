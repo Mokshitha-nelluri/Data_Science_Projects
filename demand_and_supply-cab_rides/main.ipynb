{
 "cells": [
  {
   "cell_type": "code",
   "execution_count": null,
   "metadata": {},
   "outputs": [
    {
     "name": "stdout",
     "output_type": "stream",
     "text": [
      "Requirement already satisfied: statsmodels in ./venv/lib/python3.12/site-packages (0.14.4)\n",
      "Requirement already satisfied: numpy<3,>=1.22.3 in ./venv/lib/python3.12/site-packages (from statsmodels) (2.2.2)\n",
      "Requirement already satisfied: scipy!=1.9.2,>=1.8 in ./venv/lib/python3.12/site-packages (from statsmodels) (1.15.1)\n",
      "Requirement already satisfied: pandas!=2.1.0,>=1.4 in ./venv/lib/python3.12/site-packages (from statsmodels) (2.2.3)\n",
      "Requirement already satisfied: patsy>=0.5.6 in ./venv/lib/python3.12/site-packages (from statsmodels) (1.0.1)\n",
      "Requirement already satisfied: packaging>=21.3 in ./venv/lib/python3.12/site-packages (from statsmodels) (24.2)\n",
      "Requirement already satisfied: python-dateutil>=2.8.2 in ./venv/lib/python3.12/site-packages (from pandas!=2.1.0,>=1.4->statsmodels) (2.9.0.post0)\n",
      "Requirement already satisfied: pytz>=2020.1 in ./venv/lib/python3.12/site-packages (from pandas!=2.1.0,>=1.4->statsmodels) (2025.1)\n",
      "Requirement already satisfied: tzdata>=2022.7 in ./venv/lib/python3.12/site-packages (from pandas!=2.1.0,>=1.4->statsmodels) (2025.1)\n",
      "Requirement already satisfied: six>=1.5 in ./venv/lib/python3.12/site-packages (from python-dateutil>=2.8.2->pandas!=2.1.0,>=1.4->statsmodels) (1.17.0)\n",
      "Requirement already satisfied: nbformat in ./venv/lib/python3.12/site-packages (5.10.4)\n",
      "Requirement already satisfied: fastjsonschema>=2.15 in ./venv/lib/python3.12/site-packages (from nbformat) (2.21.1)\n",
      "Requirement already satisfied: jsonschema>=2.6 in ./venv/lib/python3.12/site-packages (from nbformat) (4.23.0)\n",
      "Requirement already satisfied: jupyter-core!=5.0.*,>=4.12 in ./venv/lib/python3.12/site-packages (from nbformat) (5.7.2)\n",
      "Requirement already satisfied: traitlets>=5.1 in ./venv/lib/python3.12/site-packages (from nbformat) (5.14.3)\n",
      "Requirement already satisfied: attrs>=22.2.0 in ./venv/lib/python3.12/site-packages (from jsonschema>=2.6->nbformat) (25.1.0)\n",
      "Requirement already satisfied: jsonschema-specifications>=2023.03.6 in ./venv/lib/python3.12/site-packages (from jsonschema>=2.6->nbformat) (2024.10.1)\n",
      "Requirement already satisfied: referencing>=0.28.4 in ./venv/lib/python3.12/site-packages (from jsonschema>=2.6->nbformat) (0.36.2)\n",
      "Requirement already satisfied: rpds-py>=0.7.1 in ./venv/lib/python3.12/site-packages (from jsonschema>=2.6->nbformat) (0.22.3)\n",
      "Requirement already satisfied: platformdirs>=2.5 in ./venv/lib/python3.12/site-packages (from jupyter-core!=5.0.*,>=4.12->nbformat) (4.3.6)\n",
      "Requirement already satisfied: typing-extensions>=4.4.0 in ./venv/lib/python3.12/site-packages (from referencing>=0.28.4->jsonschema>=2.6->nbformat) (4.12.2)\n",
      "   Drivers Active Per Hour  Riders Active Per Hour  Rides Completed\n",
      "0                       72                     295            202.0\n",
      "1                       50                      78             43.0\n",
      "2                       40                     250            181.0\n",
      "3                       78                     140            124.0\n",
      "4                       74                     195            108.0\n"
     ]
    }
   ],
   "source": [
    "import pandas as pd #data manipulation and analysis\n",
    "import plotly.express as px  # simple visualisation (under the hood graph objects are the ones making up the fucntions in express)\n",
    "import plotly.graph_objects as go #customised visualisation using graph objects\n",
    "import plotly.io as pio #rendering options \n",
    "pio.templates.default = \"plotly_white\" #default template\n",
    "!pip install statsmodels\n",
    "!pip install nbformat\n",
    "\n",
    "data = pd.read_csv('rides.csv')\n",
    "print(data.head())"
   ]
  },
  {
   "cell_type": "code",
   "execution_count": 2,
   "metadata": {},
   "outputs": [
    {
     "name": "stdout",
     "output_type": "stream",
     "text": [
      "Drivers Active Per Hour     0\n",
      "Riders Active Per Hour      0\n",
      "Rides Completed            54\n",
      "dtype: int64\n"
     ]
    }
   ],
   "source": [
    "print(data.isnull().sum())"
   ]
  },
  {
   "cell_type": "code",
   "execution_count": 3,
   "metadata": {},
   "outputs": [],
   "source": [
    "data.dropna(inplace=True)"
   ]
  },
  {
   "cell_type": "code",
   "execution_count": null,
   "metadata": {},
   "outputs": [
    {
     "data": {
      "application/vnd.plotly.v1+json": {
       "config": {
        "plotlyServerURL": "https://plot.ly"
       },
       "data": [
        {
         "hovertemplate": "Drivers Active Per Hour=%{x}<br>Riders Active Per Hour=%{y}<extra></extra>",
         "legendgroup": "",
         "marker": {
          "color": "#636efa",
          "symbol": "circle"
         },
         "mode": "markers",
         "name": "",
         "showlegend": false,
         "type": "scattergl",
         "x": {
          "bdata": "SDIoTkolLmE9MUQlY1osLxxOPhAnSScwEVdhDQ1MGFgmK1tQNhFCF0YmHhMlTRgqJjZfVThNFjg0FVNCKmFhPjczUCZVXilBHiheIkRRDQogFSQmGU8oTj4QDF4+I1xTSVo6SwsiXyFhGjMKNxIYDExSXRs+SDQpThxRUVNOPjxYICJCRDw0MUEhLC5iO1syUzBWDRddWTxFPEcOO2ITKDokIxgfPikYXiMlGiljRTklX1JUX04rDy5MThxQQxY9My1HQj9PJSEoZBIxMhU/PVQzRzYNND9NUSdBYjtECitZJkkzXFZVQRtNJSdAEEUvTElDLWARKk8NTDohLyksHQopEURIVUQsTjsvWBNGPxgXIjA+E1YpU2AwRh1eMA49YFsvViRCNyZCTGAZEGAkQ2FIRi0ORF5iRgosGh4+QFFbMC4UPxMsWBs3VEdYSUZHJ0VWRUtDLT8tL2FfVytRFlIVDkAdMS9PJzoSLx4gXC8PYEAXDysgM1ZSWCwQRD8uEFFXHztYPRAcWEgyKFRQDB5CDFZSTjkiFFIaOT4WYxdWTUQ6S1hNK0QzUTgjPF4yWRIRLkkPOiIqSGEoLSMYRBEaMCIuIBkZPQ5RGDxQQEYaGxs7Jh8iXz4QFBUxNBZcXU1WWzkrYBxaElcgTRk0WlAqCj0zLT4nJyFeNCUwJkVFTDRJJhxaRyo0MDAqCzcrPS0rDSc2NBotQ0ZFQU0KUA4kHDhjRCtbKxIaGTITEQsTTl5QOStZSwoyNRYKEDopKEpSFEpHM1xfODo1DBJDOVliMSktOi8MFUJEPkwSGS9GQTtOIFpbDA5UNh9bO2JbIzsUSg1RNUhIC0AqKVNUQh5EWEtXMyZjNCY1OCALUDxHKDUVISJkPQxgKSoXSkIMRxUpGCQrMRE4XihUKDxRVUUzGEA5OTlZGWI8QBkVUyJSPzAeQyZcJEJAC0QlQzs6UVcrG0MnGBdHEFJEG1AYLRUkTyc7HhdaWTQNWzgTUxEeHUgnHmIvCyVfLzBSHQpKIBkLZBc7IhtFGiAcNzAnLBFaWlJbH2M5JjRHOURFUEdBHUQVDDsjOxoRJ1kMNWBNNV0wIj8nGiVDGRdfKVwQUUoTVTJANWFCVCQrFUpIC0xXN1EiLl8kFz4RLVFSLl8KIxtCFl0oVSEiMyEcFTNHLkNhUChaWmAgExcuGWQ/D0ZUOVg8UA4NVkEwHhVNRCNZRwtYOUUWD1YMLxZDIUArKRMQU1JcGj43DDAkFRYNL1EWGyJfD0YNYCVESz9LHjBfCiMeGmMpECFFYBpZORtRLRdNNhwSTGIqNEgfVw0nRQ1GCkgzPF1cLQseMzAhQ14YUzU1DDcrOzspYjBBHUVkNilcIT5aWjALMSNgFyENPTU3YysjIA==",
          "dtype": "i1"
         },
         "xaxis": "x",
         "y": {
          "bdata": "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",
          "dtype": "i2"
         },
         "yaxis": "y"
        },
        {
         "hovertemplate": "<b>OLS trendline</b><br>Riders Active Per Hour = 0.118923 * Drivers Active Per Hour + 174.682<br>R<sup>2</sup>=0.001911<br><br>Drivers Active Per Hour=%{x}<br>Riders Active Per Hour=%{y} <b>(trend)</b><extra></extra>",
         "legendgroup": "",
         "marker": {
          "color": "#636efa",
          "symbol": "circle"
         },
         "mode": "lines",
         "name": "",
         "showlegend": false,
         "type": "scattergl",
         "x": {
          "bdata": "CgoKCgoKCgoKCgoKCgsLCwsLCwsLCwsLCwwMDAwMDAwMDAwMDAwMDQ0NDQ0NDQ0NDQ0NDQ0NDg4ODg4ODg4PDw8PDw8PEBAQEBAQEBAQEBAQEBERERERERERERERERISEhISEhISEhMTExMTExMTExMTFBQUFBQVFRUVFRUVFRUVFRUVFRUWFhYWFhYWFhYWFhcXFxcXFxcXFxcXFxcXGBgYGBgYGBgYGBgYGBkZGRkZGRkZGRkZGRoaGhoaGhoaGhoaGhoaGxsbGxsbGxsbGxscHBwcHBwcHBwcHR0dHR0dHR4eHh4eHh4eHh4eHh4eHx8fHx8fICAgICAgICAgICAgISEhISEhISEhISEhISIiIiIiIiIiIiIiIiIiIiMjIyMjIyMjIyMjIyQkJCQkJCQkJCQkJSUlJSUlJSUlJSUlJiYmJiYmJiYmJiYmJiYnJycnJycnJycnJycnJycnKCgoKCgoKCgoKCgoKCkpKSkpKSkpKSkpKSkpKSkpKioqKioqKioqKisrKysrKysrKysrKysrKysrKywsLCwsLCwsLS0tLS0tLS0tLS0tLS0uLi4uLi4uLi4uLi8vLy8vLy8vLy8vLy8vLzAwMDAwMDAwMDAwMDAwMDAwMDAwMTExMTExMTEyMjIyMjIyMjMzMzMzMzMzMzMzMzMzMzQ0NDQ0NDQ0NDQ0NDQ0NTU1NTU1NTU1NTU2NjY2NjY2Nzc3Nzc3Nzc3Nzg4ODg4ODg4OTk5OTk5OTk5OTk5OTk6Ojo6Ojo6Ojo6Ozs7Ozs7Ozs7Ozs7Ozs7Ozw8PDw8PDw8PDw8PT09PT09PT09PT4+Pj4+Pj4+Pj4+Pj4+Pj4/Pz8/Pz8/Pz8/P0BAQEBAQEBAQEBAQUFBQUFBQUFBQkJCQkJCQkJCQkJCQkNDQ0NDQ0NDQ0NDQ0NEREREREREREREREREREREREREREVFRUVFRUVFRUVFRUVFRUZGRkZGRkZGRkZGRkdHR0dHR0dHR0dHR0dHSEhISEhISEhISEhISUlJSUlJSUpKSkpKSkpKS0tLS0tLS0xMTExMTExMTExNTU1NTU1NTU1NTU1OTk5OTk5OTk5OTk9PT09PUFBQUFBQUFBQUFBQUFFRUVFRUVFRUVFRUVFRUVFRUlJSUlJSUlJSUlJSUlNTU1NTU1NTU1NUVFRUVFRUVFRVVVVVVVVVVlZWVlZWVlZWVlZXV1dXV1dXV1hYWFhYWFhYWFhYWFlZWVlZWVlZWVlaWlpaWlpaWlpaWlpaW1tbW1tbW1tbW1tcXFxcXFxcXFxcXV1dXV1dXl5eXl5eXl5eXl5fX19fX19fX19fX19fYGBgYGBgYGBgYGBgYGFhYWFhYWFhYWFiYmJiYmJiYmJiY2NjY2NjY2NkZGRkZA==",
          "dtype": "i1"
         },
         "xaxis": "x",
         "y": {
          "bdata": "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",
          "dtype": "f8"
         },
         "yaxis": "y"
        }
       ],
       "layout": {
        "legend": {
         "tracegroupgap": 0
        },
        "template": {
         "data": {
          "bar": [
           {
            "error_x": {
             "color": "#2a3f5f"
            },
            "error_y": {
             "color": "#2a3f5f"
            },
            "marker": {
             "line": {
              "color": "white",
              "width": 0.5
             },
             "pattern": {
              "fillmode": "overlay",
              "size": 10,
              "solidity": 0.2
             }
            },
            "type": "bar"
           }
          ],
          "barpolar": [
           {
            "marker": {
             "line": {
              "color": "white",
              "width": 0.5
             },
             "pattern": {
              "fillmode": "overlay",
              "size": 10,
              "solidity": 0.2
             }
            },
            "type": "barpolar"
           }
          ],
          "carpet": [
           {
            "aaxis": {
             "endlinecolor": "#2a3f5f",
             "gridcolor": "#C8D4E3",
             "linecolor": "#C8D4E3",
             "minorgridcolor": "#C8D4E3",
             "startlinecolor": "#2a3f5f"
            },
            "baxis": {
             "endlinecolor": "#2a3f5f",
             "gridcolor": "#C8D4E3",
             "linecolor": "#C8D4E3",
             "minorgridcolor": "#C8D4E3",
             "startlinecolor": "#2a3f5f"
            },
            "type": "carpet"
           }
          ],
          "choropleth": [
           {
            "colorbar": {
             "outlinewidth": 0,
             "ticks": ""
            },
            "type": "choropleth"
           }
          ],
          "contour": [
           {
            "colorbar": {
             "outlinewidth": 0,
             "ticks": ""
            },
            "colorscale": [
             [
              0,
              "#0d0887"
             ],
             [
              0.1111111111111111,
              "#46039f"
             ],
             [
              0.2222222222222222,
              "#7201a8"
             ],
             [
              0.3333333333333333,
              "#9c179e"
             ],
             [
              0.4444444444444444,
              "#bd3786"
             ],
             [
              0.5555555555555556,
              "#d8576b"
             ],
             [
              0.6666666666666666,
              "#ed7953"
             ],
             [
              0.7777777777777778,
              "#fb9f3a"
             ],
             [
              0.8888888888888888,
              "#fdca26"
             ],
             [
              1,
              "#f0f921"
             ]
            ],
            "type": "contour"
           }
          ],
          "contourcarpet": [
           {
            "colorbar": {
             "outlinewidth": 0,
             "ticks": ""
            },
            "type": "contourcarpet"
           }
          ],
          "heatmap": [
           {
            "colorbar": {
             "outlinewidth": 0,
             "ticks": ""
            },
            "colorscale": [
             [
              0,
              "#0d0887"
             ],
             [
              0.1111111111111111,
              "#46039f"
             ],
             [
              0.2222222222222222,
              "#7201a8"
             ],
             [
              0.3333333333333333,
              "#9c179e"
             ],
             [
              0.4444444444444444,
              "#bd3786"
             ],
             [
              0.5555555555555556,
              "#d8576b"
             ],
             [
              0.6666666666666666,
              "#ed7953"
             ],
             [
              0.7777777777777778,
              "#fb9f3a"
             ],
             [
              0.8888888888888888,
              "#fdca26"
             ],
             [
              1,
              "#f0f921"
             ]
            ],
            "type": "heatmap"
           }
          ],
          "histogram": [
           {
            "marker": {
             "pattern": {
              "fillmode": "overlay",
              "size": 10,
              "solidity": 0.2
             }
            },
            "type": "histogram"
           }
          ],
          "histogram2d": [
           {
            "colorbar": {
             "outlinewidth": 0,
             "ticks": ""
            },
            "colorscale": [
             [
              0,
              "#0d0887"
             ],
             [
              0.1111111111111111,
              "#46039f"
             ],
             [
              0.2222222222222222,
              "#7201a8"
             ],
             [
              0.3333333333333333,
              "#9c179e"
             ],
             [
              0.4444444444444444,
              "#bd3786"
             ],
             [
              0.5555555555555556,
              "#d8576b"
             ],
             [
              0.6666666666666666,
              "#ed7953"
             ],
             [
              0.7777777777777778,
              "#fb9f3a"
             ],
             [
              0.8888888888888888,
              "#fdca26"
             ],
             [
              1,
              "#f0f921"
             ]
            ],
            "type": "histogram2d"
           }
          ],
          "histogram2dcontour": [
           {
            "colorbar": {
             "outlinewidth": 0,
             "ticks": ""
            },
            "colorscale": [
             [
              0,
              "#0d0887"
             ],
             [
              0.1111111111111111,
              "#46039f"
             ],
             [
              0.2222222222222222,
              "#7201a8"
             ],
             [
              0.3333333333333333,
              "#9c179e"
             ],
             [
              0.4444444444444444,
              "#bd3786"
             ],
             [
              0.5555555555555556,
              "#d8576b"
             ],
             [
              0.6666666666666666,
              "#ed7953"
             ],
             [
              0.7777777777777778,
              "#fb9f3a"
             ],
             [
              0.8888888888888888,
              "#fdca26"
             ],
             [
              1,
              "#f0f921"
             ]
            ],
            "type": "histogram2dcontour"
           }
          ],
          "mesh3d": [
           {
            "colorbar": {
             "outlinewidth": 0,
             "ticks": ""
            },
            "type": "mesh3d"
           }
          ],
          "parcoords": [
           {
            "line": {
             "colorbar": {
              "outlinewidth": 0,
              "ticks": ""
             }
            },
            "type": "parcoords"
           }
          ],
          "pie": [
           {
            "automargin": true,
            "type": "pie"
           }
          ],
          "scatter": [
           {
            "fillpattern": {
             "fillmode": "overlay",
             "size": 10,
             "solidity": 0.2
            },
            "type": "scatter"
           }
          ],
          "scatter3d": [
           {
            "line": {
             "colorbar": {
              "outlinewidth": 0,
              "ticks": ""
             }
            },
            "marker": {
             "colorbar": {
              "outlinewidth": 0,
              "ticks": ""
             }
            },
            "type": "scatter3d"
           }
          ],
          "scattercarpet": [
           {
            "marker": {
             "colorbar": {
              "outlinewidth": 0,
              "ticks": ""
             }
            },
            "type": "scattercarpet"
           }
          ],
          "scattergeo": [
           {
            "marker": {
             "colorbar": {
              "outlinewidth": 0,
              "ticks": ""
             }
            },
            "type": "scattergeo"
           }
          ],
          "scattergl": [
           {
            "marker": {
             "colorbar": {
              "outlinewidth": 0,
              "ticks": ""
             }
            },
            "type": "scattergl"
           }
          ],
          "scattermap": [
           {
            "marker": {
             "colorbar": {
              "outlinewidth": 0,
              "ticks": ""
             }
            },
            "type": "scattermap"
           }
          ],
          "scattermapbox": [
           {
            "marker": {
             "colorbar": {
              "outlinewidth": 0,
              "ticks": ""
             }
            },
            "type": "scattermapbox"
           }
          ],
          "scatterpolar": [
           {
            "marker": {
             "colorbar": {
              "outlinewidth": 0,
              "ticks": ""
             }
            },
            "type": "scatterpolar"
           }
          ],
          "scatterpolargl": [
           {
            "marker": {
             "colorbar": {
              "outlinewidth": 0,
              "ticks": ""
             }
            },
            "type": "scatterpolargl"
           }
          ],
          "scatterternary": [
           {
            "marker": {
             "colorbar": {
              "outlinewidth": 0,
              "ticks": ""
             }
            },
            "type": "scatterternary"
           }
          ],
          "surface": [
           {
            "colorbar": {
             "outlinewidth": 0,
             "ticks": ""
            },
            "colorscale": [
             [
              0,
              "#0d0887"
             ],
             [
              0.1111111111111111,
              "#46039f"
             ],
             [
              0.2222222222222222,
              "#7201a8"
             ],
             [
              0.3333333333333333,
              "#9c179e"
             ],
             [
              0.4444444444444444,
              "#bd3786"
             ],
             [
              0.5555555555555556,
              "#d8576b"
             ],
             [
              0.6666666666666666,
              "#ed7953"
             ],
             [
              0.7777777777777778,
              "#fb9f3a"
             ],
             [
              0.8888888888888888,
              "#fdca26"
             ],
             [
              1,
              "#f0f921"
             ]
            ],
            "type": "surface"
           }
          ],
          "table": [
           {
            "cells": {
             "fill": {
              "color": "#EBF0F8"
             },
             "line": {
              "color": "white"
             }
            },
            "header": {
             "fill": {
              "color": "#C8D4E3"
             },
             "line": {
              "color": "white"
             }
            },
            "type": "table"
           }
          ]
         },
         "layout": {
          "annotationdefaults": {
           "arrowcolor": "#2a3f5f",
           "arrowhead": 0,
           "arrowwidth": 1
          },
          "autotypenumbers": "strict",
          "coloraxis": {
           "colorbar": {
            "outlinewidth": 0,
            "ticks": ""
           }
          },
          "colorscale": {
           "diverging": [
            [
             0,
             "#8e0152"
            ],
            [
             0.1,
             "#c51b7d"
            ],
            [
             0.2,
             "#de77ae"
            ],
            [
             0.3,
             "#f1b6da"
            ],
            [
             0.4,
             "#fde0ef"
            ],
            [
             0.5,
             "#f7f7f7"
            ],
            [
             0.6,
             "#e6f5d0"
            ],
            [
             0.7,
             "#b8e186"
            ],
            [
             0.8,
             "#7fbc41"
            ],
            [
             0.9,
             "#4d9221"
            ],
            [
             1,
             "#276419"
            ]
           ],
           "sequential": [
            [
             0,
             "#0d0887"
            ],
            [
             0.1111111111111111,
             "#46039f"
            ],
            [
             0.2222222222222222,
             "#7201a8"
            ],
            [
             0.3333333333333333,
             "#9c179e"
            ],
            [
             0.4444444444444444,
             "#bd3786"
            ],
            [
             0.5555555555555556,
             "#d8576b"
            ],
            [
             0.6666666666666666,
             "#ed7953"
            ],
            [
             0.7777777777777778,
             "#fb9f3a"
            ],
            [
             0.8888888888888888,
             "#fdca26"
            ],
            [
             1,
             "#f0f921"
            ]
           ],
           "sequentialminus": [
            [
             0,
             "#0d0887"
            ],
            [
             0.1111111111111111,
             "#46039f"
            ],
            [
             0.2222222222222222,
             "#7201a8"
            ],
            [
             0.3333333333333333,
             "#9c179e"
            ],
            [
             0.4444444444444444,
             "#bd3786"
            ],
            [
             0.5555555555555556,
             "#d8576b"
            ],
            [
             0.6666666666666666,
             "#ed7953"
            ],
            [
             0.7777777777777778,
             "#fb9f3a"
            ],
            [
             0.8888888888888888,
             "#fdca26"
            ],
            [
             1,
             "#f0f921"
            ]
           ]
          },
          "colorway": [
           "#636efa",
           "#EF553B",
           "#00cc96",
           "#ab63fa",
           "#FFA15A",
           "#19d3f3",
           "#FF6692",
           "#B6E880",
           "#FF97FF",
           "#FECB52"
          ],
          "font": {
           "color": "#2a3f5f"
          },
          "geo": {
           "bgcolor": "white",
           "lakecolor": "white",
           "landcolor": "white",
           "showlakes": true,
           "showland": true,
           "subunitcolor": "#C8D4E3"
          },
          "hoverlabel": {
           "align": "left"
          },
          "hovermode": "closest",
          "mapbox": {
           "style": "light"
          },
          "paper_bgcolor": "white",
          "plot_bgcolor": "white",
          "polar": {
           "angularaxis": {
            "gridcolor": "#EBF0F8",
            "linecolor": "#EBF0F8",
            "ticks": ""
           },
           "bgcolor": "white",
           "radialaxis": {
            "gridcolor": "#EBF0F8",
            "linecolor": "#EBF0F8",
            "ticks": ""
           }
          },
          "scene": {
           "xaxis": {
            "backgroundcolor": "white",
            "gridcolor": "#DFE8F3",
            "gridwidth": 2,
            "linecolor": "#EBF0F8",
            "showbackground": true,
            "ticks": "",
            "zerolinecolor": "#EBF0F8"
           },
           "yaxis": {
            "backgroundcolor": "white",
            "gridcolor": "#DFE8F3",
            "gridwidth": 2,
            "linecolor": "#EBF0F8",
            "showbackground": true,
            "ticks": "",
            "zerolinecolor": "#EBF0F8"
           },
           "zaxis": {
            "backgroundcolor": "white",
            "gridcolor": "#DFE8F3",
            "gridwidth": 2,
            "linecolor": "#EBF0F8",
            "showbackground": true,
            "ticks": "",
            "zerolinecolor": "#EBF0F8"
           }
          },
          "shapedefaults": {
           "line": {
            "color": "#2a3f5f"
           }
          },
          "ternary": {
           "aaxis": {
            "gridcolor": "#DFE8F3",
            "linecolor": "#A2B1C6",
            "ticks": ""
           },
           "baxis": {
            "gridcolor": "#DFE8F3",
            "linecolor": "#A2B1C6",
            "ticks": ""
           },
           "bgcolor": "white",
           "caxis": {
            "gridcolor": "#DFE8F3",
            "linecolor": "#A2B1C6",
            "ticks": ""
           }
          },
          "title": {
           "x": 0.05
          },
          "xaxis": {
           "automargin": true,
           "gridcolor": "#EBF0F8",
           "linecolor": "#EBF0F8",
           "ticks": "",
           "title": {
            "standoff": 15
           },
           "zerolinecolor": "#EBF0F8",
           "zerolinewidth": 2
          },
          "yaxis": {
           "automargin": true,
           "gridcolor": "#EBF0F8",
           "linecolor": "#EBF0F8",
           "ticks": "",
           "title": {
            "standoff": 15
           },
           "zerolinecolor": "#EBF0F8",
           "zerolinewidth": 2
          }
         }
        },
        "title": {
         "text": "Demand and Supply Analysis"
        },
        "xaxis": {
         "anchor": "y",
         "domain": [
          0,
          1
         ],
         "title": {
          "text": "Number of Drivers Active per Hour (Supply)"
         }
        },
        "yaxis": {
         "anchor": "x",
         "domain": [
          0,
          1
         ],
         "title": {
          "text": "Number of Riders Active per Hour (Demand)"
         }
        }
       }
      }
     },
     "metadata": {},
     "output_type": "display_data"
    }
   ],
   "source": [
    "demand = data[\"Riders Active Per Hour\"]\n",
    "supply = data[\"Drivers Active Per Hour\"]\n",
    "\n",
    "figure = px.scatter(data, x = \"Drivers Active Per Hour\",\n",
    "                    y = \"Riders Active Per Hour\", trendline=\"ols\", \n",
    "                    title=\"Demand and Supply Analysis\") #ols-ordinary least squares type of linear least squares method \n",
    "figure.update_layout(\n",
    "    xaxis_title=\"Number of Drivers Active per Hour (Supply)\",\n",
    "    yaxis_title=\"Number of Riders Active per Hour (Demand)\",\n",
    ")\n",
    "figure.show()"
   ]
  },
  {
   "cell_type": "code",
   "execution_count": null,
   "metadata": {},
   "outputs": [
    {
     "name": "stdout",
     "output_type": "stream",
     "text": [
      "Elasticity of demand wrt no. of active drivers per hr: 0.8239511014103149\n"
     ]
    }
   ],
   "source": [
    "#elasticity - measurement of the change in the demand for a product as a result of a change in active drivers per hr\n",
    "\n",
    "avg_demand = data['Riders Active Per Hour'].mean()\n",
    "avg_supply = data['Drivers Active Per Hour'].mean()\n",
    "pct_change_demand = (max(data['Riders Active Per Hour'])- min(data['Riders Active Per Hour'])) / avg_demand * 100 #relative percentage change\n",
    "pct_change_supply = (max(data['Drivers Active Per Hour']) - min(data['Drivers Active Per Hour'])) / avg_supply * 100\n",
    "elasticity = pct_change_demand / pct_change_supply\n",
    "\n",
    "print(f\"Elasticity of demand wrt no. of active drivers per hr: {elasticity}\")"
   ]
  },
  {
   "cell_type": "markdown",
   "metadata": {},
   "source": [
    " Suggests that the demand for rides is somewhat sensitive to changes in the number of active drivers per hour."
   ]
  },
  {
   "cell_type": "code",
   "execution_count": 7,
   "metadata": {},
   "outputs": [
    {
     "name": "stdout",
     "output_type": "stream",
     "text": [
      "   Drivers Active Per Hour  Riders Active Per Hour  Rides Completed  \\\n",
      "0                       72                     295            202.0   \n",
      "1                       50                      78             43.0   \n",
      "2                       40                     250            181.0   \n",
      "3                       78                     140            124.0   \n",
      "4                       74                     195            108.0   \n",
      "\n",
      "   Supply Ratio  \n",
      "0      2.805556  \n",
      "1      0.860000  \n",
      "2      4.525000  \n",
      "3      1.589744  \n",
      "4      1.459459  \n"
     ]
    }
   ],
   "source": [
    "#supply ratio \n",
    "data['Supply Ratio'] = data['Rides Completed'] / data['Drivers Active Per Hour']\n",
    "print(data.head())"
   ]
  },
  {
   "cell_type": "code",
   "execution_count": null,
   "metadata": {},
   "outputs": [
    {
     "data": {
      "application/vnd.plotly.v1+json": {
       "config": {
        "plotlyServerURL": "https://plot.ly"
       },
       "data": [
        {
         "mode": "markers",
         "type": "scatter",
         "x": {
          "bdata": "SDIoTkolLmE9MUQlY1osLxxOPhAnSScwEVdhDQ1MGFgmK1tQNhFCF0YmHhMlTRgqJjZfVThNFjg0FVNCKmFhPjczUCZVXilBHiheIkRRDQogFSQmGU8oTj4QDF4+I1xTSVo6SwsiXyFhGjMKNxIYDExSXRs+SDQpThxRUVNOPjxYICJCRDw0MUEhLC5iO1syUzBWDRddWTxFPEcOO2ITKDokIxgfPikYXiMlGiljRTklX1JUX04rDy5MThxQQxY9My1HQj9PJSEoZBIxMhU/PVQzRzYNND9NUSdBYjtECitZJkkzXFZVQRtNJSdAEEUvTElDLWARKk8NTDohLyksHQopEURIVUQsTjsvWBNGPxgXIjA+E1YpU2AwRh1eMA49YFsvViRCNyZCTGAZEGAkQ2FIRi0ORF5iRgosGh4+QFFbMC4UPxMsWBs3VEdYSUZHJ0VWRUtDLT8tL2FfVytRFlIVDkAdMS9PJzoSLx4gXC8PYEAXDysgM1ZSWCwQRD8uEFFXHztYPRAcWEgyKFRQDB5CDFZSTjkiFFIaOT4WYxdWTUQ6S1hNK0QzUTgjPF4yWRIRLkkPOiIqSGEoLSMYRBEaMCIuIBkZPQ5RGDxQQEYaGxs7Jh8iXz4QFBUxNBZcXU1WWzkrYBxaElcgTRk0WlAqCj0zLT4nJyFeNCUwJkVFTDRJJhxaRyo0MDAqCzcrPS0rDSc2NBotQ0ZFQU0KUA4kHDhjRCtbKxIaGTITEQsTTl5QOStZSwoyNRYKEDopKEpSFEpHM1xfODo1DBJDOVliMSktOi8MFUJEPkwSGS9GQTtOIFpbDA5UNh9bO2JbIzsUSg1RNUhIC0AqKVNUQh5EWEtXMyZjNCY1OCALUDxHKDUVISJkPQxgKSoXSkIMRxUpGCQrMRE4XihUKDxRVUUzGEA5OTlZGWI8QBkVUyJSPzAeQyZcJEJAC0QlQzs6UVcrG0MnGBdHEFJEG1AYLRUkTyc7HhdaWTQNWzgTUxEeHUgnHmIvCyVfLzBSHQpKIBkLZBc7IhtFGiAcNzAnLBFaWlJbH2M5JjRHOURFUEdBHUQVDDsjOxoRJ1kMNWBNNV0wIj8nGiVDGRdfKVwQUUoTVTJANWFCVCQrFUpIC0xXN1EiLl8kFz4RLVFSLl8KIxtCFl0oVSEiMyEcFTNHLkNhUChaWmAgExcuGWQ/D0ZUOVg8UA4NVkEwHhVNRCNZRwtYOUUWD1YMLxZDIUArKRMQU1JcGj43DDAkFRYNL1EWGyJfD0YNYCVESz9LHjBfCiMeGmMpECFFYBpZORtRLRdNNhwSTGIqNEgfVw0nRQ1GCkgzPF1cLQseMzAhQ14YUzU1DDcrOzspYjBBHUVkNilcIT5aWjALMSNgFyENPTU3YysjIA==",
          "dtype": "i1"
         },
         "y": {
          "bdata": "HMdxHMdxBkCF61G4HoXrP5qZmZmZGRJA+ZZv+ZZv+T+fdYMp8ln3P4Mp8lk3mBJAOL3pTW96+z+7WZ5EpmH7P5MhWEeb9/k/Kng5BS+n8D94eHh4eHjwP0yRz7rBFOk/ED744IMP7j/NzMzMzMzsP9FFF1100RFA1Hc26jsbFUAAAAAAAAAVQDVIgzRIg/Q/pZRSSiml9D8AAAAAACArQBqkQRqkQfo/4MCBAwcO7D9VVVVVVVX1P6uqqqqqqvY/aWlpaWlpJUApXiCT4gXyPzIN283yJPI/dmIndmInKEA7sRM7sRMtQJTXUF5Dee0/AAAAAAAAAUC66KKLLrrsPw3lNZTXUO4/iTvijrgjBkAiHMIhHMLxP83MzMzMzP0/hfYS2kto9z9paWlpaWkVQKuqqqqqqvI/QxaykIUsBEDjK77iK74KQFFeQ3kN5Q1Aq6qqqqqq+j/KayivobwWQHaDKfJZN/g/HlMDe8fU8D+rqqqqqqoPQDEMwzAMwxhAKK+hvIbyBkByHMdxHMcBQFYgjLRjBQJAAAAAAAAA8D8AAAAAAADsP6OLLrroovs/0UUXXXTRHUBJkiRJkiQAQJ7YiZ3YiQNAnud5nud5IkBBCW80dX79P9FFF1100fU/wzAMwzAM+z83y5PINGz3P8bVDzoq8PU/+N5777337j/D2jesfcP6P7++vr6+vu4/mpmZmZmZA0CvobyG8hr6P7i3t7e3t/c/9Z2N+s5G7T+idiVqV6L2P8EP/MAP/AhAZmZmZmZm9j8AAAAAAADoPxCTK4jJFQRAWlpaWlpaEEDi4eHh4eH1P6hb88MiZfA/Yid2Yid28j8zMzMzMzMjQAAAAAAAAOo/YhiGYRiGAUAAAAAAAADwP3kN5TWU1xBA16NwPQrXF0CSPQNR6cjuP83MzMzMzPQ/l2/5lm/59j9KKaWUUkoBQAAAAAAAAOQ/q6qqqqqqFEC5gphcQUz2P5VSSimllApAi6/4iq/4+j+c3vSmN731P+0hlxUDJew/BAcOHDhw8D/Ygi3Ygi0EQKgRlnsaYQVALPnFkl8sCUDRRRdddNEdQMTDw8PDw/s/STtWIIy08z8ffPDBBx/8P4Evrn7QUfE/Yid2Yid2+j8yMjIyMjLyP83MzMzMzOw/o4suuuiiA0ByHMdxHMcfQFVVVVVV1RhAAAAAAAAACECU11BeQ3ntPxmcj8H5GABAGWOMMcYY8z8T2ktoL6ENQBljjDHGGPs/VVVVVVVVAUB2Yid2YicKQInalahdiQpAB2mQBmmQ9j8AAAAAAAAQQAntJbSX0O4/ysDTrflh8T9NnV97yGX1PwdpkAZpkAJA55xzzjnn7D8AAAAAAAD4P4wuuuiiiwJAAAAAAACAEUBpaWlpaWkJQPjggw8++PA/09LS0tLSAEBVVVVVVVUBQOzETuzETgRAg5dT8HIK/j/ohV7ohV4AQJNNNtlkkxlAjC666KKL9j8WspCFLGQBQB8a60NjffA/j60IGk7q/j/TL/3SL/3yP3sUrkfhevQ/qvNrD7msAEAAAAAAAIAAQKEv6Av6gu4/ntiJndiJIUBDFrKQhSwMQLDAAgsssPA/IxShCEUo8j+rqqqqqqrqP+pNb3rTm/4/iYiIiIiI9D+iFTYHEq0AQEmSJEmSJCxAj60IGk7q7j8VvJyCl1MAQBvKayivoSZAZmZmZmZm8D8Jyz2NsNwHQMdxHMdxHAdAvuIrvuIr7j9VVVVVVVUPQIQQQgghhPA/55xzzjnn7D8sUbsStSvxP1VVVVVVVSZAo76zUd/Z8D9YfMVXfMX3PwAAAAAAAAhAO7ETO7ETD0DOx+B8DM4HQEjM2xkS8/Y/3/SmN73pBUBsKK+hvIbyP60bTJHPuvE/0o4VCCPtAEC7ErUrUbvyPwzDMAzDMOw/zczMzMzM/D/sxE7sxE7sPyTuiDvijug/VVVVVVVVJ0AhC1nIQhYOQJTXUF5DeQFADdIgDdIg7T8AAAAAAADoP5qZmZmZmfU/Kme38Ksx8T8vuuiiiy4WQDIE62jzPvU/+/r6+vr66j/1SZ/0SZ8QQFfYHEi0wvY/F1100UUXAUAQBEEQBEHwP9yE+V0tbgJA1g2myGfd8D/RRRdddNEFQDMzMzMzM+s/FK5H4XoU8j/kOI7jOI77Pyp4OQUvpwBA9ihcj8L18D+3bdu2bdsaQBRFURRFUQRADcE62rxP8T8xDMMwDMP0P5ybm5ubm/s/2BxItMLmCEBVVVVVVVX1P3ZiJ3ZiJyZAip3YiZ3Y9T/kOI7jOI7zP+miiy666PI/rvlhkTLw9D8N0iAN0iAFQPzAD/zAD+w/Y31orA+N9T+Hk7ovj60QQKalpaWlpe0/AAAAAAAAEkBlTVlT1pT1PxrPeMYznvE/bCivobyGCkBp0qRJkyb9P93c3Nzc3Ow/pze96U1v8j8Y9AV9QV/wPz8/Pz8/P+8/buRGbuRG/j85juM4juPoP2DvmBrYOwZAMEU+6wZTDEBVVVVVVVX1PwAAAAAAAAFAAAAAAADgJEDqTW9605vuP0FMriAmV/A/lNdQXkN57T/duXPnzp3rP2/hV2MiPQBAtmALtmAL9j+rqqqqqqrtP0tLS0tLSyFA6Hme53me9z8xv6vFTZj/PzuxEzuxEyFAlNdQXkN57T/uaYTlnkYEQJtssskmmwRAqe9s1Hc2+j8yOB+D8zEQQBdddNFFFxNAYbmnEZZ7FkBmZmZmZmYxQOF8DM7H4Ow/Hh4eHh4eFkBLS0tLS0vzPzmO4ziO4/A/u7q6urq6+j8PDw8PDw8FQKOLLrroogFApEEapEEaAEAjaDip+/L4P476zkZ9Z/M/jC666KKL/D+vobyG8hogQFAHdVAHdfA/0zRN0zRNA0BVVVVVVVUNQIYsZCELWQhAS0tLS0tLEUBVVVVVVVUKQFtrrbXWWus/DeU1lNdQBkBlTVlT1pT9P2pXonYlahdATZ1fe8hl9T+rqqqqqqrzP6uqqqqqqv0/t23btm3b9j9zTyMs9zQCQHg26jsb9QVAAAAAAAAACEBJkiRJkiQmQJ/ikiFYR+s/q6qqqqqq7j9g+qVf+qXvP9qo72zUd/Y/POKOuCPu8D8cx3Ecx3EIQPjggw8++Pg/TwnylCBP+T/zGsprKK8RQAgffPDBB+8/eQ3lNZTX+D+rqqqqqqrsP/YoXI/C9RhAAAAAAAAA/D9VVVVVVdXzP+Q4juM4jhBAhl+NifRABUBankSmYbv5P3Icx3Ecx/c/HdRBHdRBBUByHMdxHMfxP27btm3bNjFAiIeHh4eH9z9yBTG5gpj0Py+n4OUUvOw/+Yqv+Iqv8D9mZmZmZmYWQEYXXXTRRRBAsRM7sRM7BUCamZmZmZnpP++999577/0/AAAAAAAAA0DEImXg6dbsP6AFWqAFWvA/AAAAAAAAD0DTm970pjcJQDMzMzMzMwdAURRFURRFCUBDeQ3lNZQlQC+66KKLLuo/XXTRRRdd9D+rqqqqqqr6P0qQpwR5SvA/ep7neZ7n9T82BxKtsDnwP7rooosuuvI/9erVq1ev7j8AAAAAAADwPx1ItMLmQPI/+ZZv+ZZvCUC96U1vetPrP9aUNWVNWfs/3/SmN73p/T8iIiIiIiLyP0V6oHJ2C+8/lD7pkz7p8z8YhmEYhmH4P+/u7u7u7v4/tFHf2ajvBECzPIlMw3bzPxOnfs8tcfo/ZFK8QCbFA0BrypqypqwBQEJ7Ce0ltPc/uuiiiy66BED6GJyPwfn4PwAAAAAAAAhAJUmSJEmSL0AAAAAAAEAJQBphuacRlvs/zCl4OQUvD0B4Nuo7G/X9P3i1uAnzuwJAVVVVVVVV9T/3NMJyTyPsP6uqqqqqqhhAQUyuICZX8D8RERERERH5PwAAAAAAgAFA3/SmN73pAUC0Ud/ZqO8UQJqZmZmZmR1Aq6qqqqoqAEAAAAAAAAACQDi96U1veuM/ZmZmZmZmDkDWlDVlTVkDQAAAAAAAAOg/l5aWlpaW9j8Sd8QdcUfsP30MzsfgfOw/RhdddNFF8T+66KKLLrroPwAAAAAAwBRAS0tLS0tL6z81TdM0TdP0P4YsZCELWfg/AAAAAACABUCxSBl4ujXvP2RSvEAmxQNAa6211lprEUAaTuq+PLbyP7rooosuugRAn+KSIVhH6z8AAAAAAAATQAAAAAAAAOg/dNFFF110B0A5juM4juPwPz0K16NwPfI/zczMzMzM7D89z/M8z/PwP83MzMzMzPM/VVVVVVVVxT9ERERERET0PzbZZJNNNg1Aq6qqqqqqIEAM+oK+oC/4P5yPwfkYnAdAvuVbvuVb7j+H8hrKaygHQHh4eHh4eARAZmZmZmZm7j9eidqVqF0FQLETO7ETOwFACe4juI/g7j/43nvvvffuP1100UUXXQhANCTm7QyJAUBOb3rTm94EQL+gL+gL+vI/kiRJkiRJ8j8PDw8PDw/7P+aeRljuafQ/rkfhehSu9z8XXXTRRRftP1Z+QpyVn/A/NmVNWVPWDEAPDw8PDw/7P25ubm5ubgZAUgaebs0P+z9JkiRJkiQIQBZf8RVf8Q1AZmZmZmZm+j9dQUyuICb/P4/C9Shcj/I/73Wve93r/j85juM4juMIQAAAAAAAABRAZCELWchC9j+zZcuWLVv2PzMzMzMzMwNALPc0wnJP8z8eHh4eHh4GQEmSJEmSJPE/5DiO4ziO8T90VOCLqx/0P5qZmZmZmQ1ApU/6pE/6BEB1UAd1UAcFQFVVVVVVVQ9ApqWlpaWl9T+1tLS0tLQuQJ7YiZ3YifU/VVVVVVVV8D+1tLS0tLT8P3rTm970pgdAAAAAAACAFkBcj8L1KFwhQKRwPQrXo/A/Ki4ZgnW0+T+SJEmSJEkkQGt+WKQMPO0/q6qqqqqq7j+rqqqqqqoKQJqZmZmZmfU/AAAAAACAAkDFV3zFV3wFQOzETuzETvQ/L6G9hPYS6j++hPYS2ksYQFcEDSd1X+4/G8prKK+h7D/OOeecc84BQNPS0tLS0vo/CCPtWIEw8j/fe++9997zPwAAAAAAANw/ZmZmZmbmJkCSJEmSJEkKQMwpeDkFL/c/O7ETO7ETA0BddNFFF10WQFnIQhaykO0/ttZaa6219j8RZ+UnxFn5P+gL+oK+oPc/Xc3VXM3V7D8fwX0E9xH8P4+4I+6IOxZAVVVVVVWVAkC3bdu2bdsGQBzHcRzHcfw/q6qqqqqqDkC5pxGWexrxPwAAAAAAgPg/Vn5CnJWf8D/D9Shcj8IhQHZiJ3ZiJwxAzczMzMzM7D/NzMzMzMz0P7dt27Zt2w5AMzMzMzMz0z/zPsUlQ7D+P6alpaWlpQ1AfdInfdInEUDfe++9994DQL7lW77lWwZAsRM7sRM7EUDpoosuuugaQLRR39mo7/w/ip3YiZ3Y8T+KfNYNpsgXQKuqqqqqqvw/vYbyGspr6D8TP6PEzyjxPx6Yawfm2vE/oryG8hrK6z+e2Imd2IntP+DAgQMHDuw/h/Iaymso9z8lSZIkSZIGQJQ+6ZM+6fM/AAAAAAAAAEA9z/M8z/P8Pyd2Yid2Yg9Aq6qqqqoqAUCrqqqqqqr5P3qe53me5/k/AAAAAAAA8D9KkKcEeUrwPwZ9QV/QF/Q/xSVDsI42/z8AAAAAAAAAQI+4I+6IOwJAAAAAAAAALEDSIA3SIA3yPxPaS2gvofU/sRM7sRM78T/FTuzETuwAQAZbsAVbsPU/WGMiPVA5+z98xVd8xVcEQJhrB+bagQFAGHqhF3qh9z9xVn5CnJUHQJqZmZmZmfk/ZmZmZmZm7j8AAAAAAAASQMdxHMdxHA1At23btm3bIEC3bdu2bdsDQHzwwQcffPA/AAAAAAAA+D8GfUFf0BcQQGiBFmiBFvg/POKOuCPu+D/HcRzHcRwDQAAAAAAAAARA9ihcj8L1EEBmZmZmZmb2Pw3lNZTXUBZAl5aWlpaWIEAvuuiiiy4kQFFeQ3kN5SNA2Ymd2Imd+D9S39mo72wAQM3MzMzMzPM/Q3kN5TWU9z9BX9AX9AX9P1Ob2tSmNvU/nTbQaQOd9j8zMzMzMzMkQM3MzMzMzOw/0CE1wXgr6z9GF1100UUPQM3MzMzMzBBAAAAAAAAAHkDuaYTlnkbwP16J2pWoXfk/AAAAAAAA6D991g2myGftPwzOx+B8DO4/MzMzMzMzEUDQusEU+azrP+dAohU2BwJA+/r6+vr66j/IQhaykIXsP1mBMNKOFQBASZIkSZIk8T+oEZZ7GmEBQDDeyj6H1PQ/AAAAAAAA8D9VVVVVVVX9P8vZLfxqTBBAz2I6i+ks9j/60Y9+9KP/P9aHxvrQWP8/Cl5Owcsp+D/Ox+B8DM4TQGELtmALtvA/hOWeRlju+T9no76zUd8JQKuqqqqqKiZAkiRJkiRJCkDwwQcffPDxP9PS0tLS0v4/U0oppZRS+j95DeU1lNfwP47jOI7jOA5APQrXo3A9FkD7zkZ9Z6MSQKiDOqiDOghAoRd6oRd6CUCChpO6L48FQOzETuzETvQ/AAAAAABADUARERERERH5Px/v8R7v8e4/q6qqqqqq+j/btm3btm0vQJ7neZ7nef4/voT2EtpLDEB877333nsHQH/pl37pl+4/VwQNJ3VfDkDWh8b60FjvP+EQDuEQDgFAD+qgDuqg/j9S9+WxFUHzP5qZmZmZmSFAU+SzbjBF/j8AAAAAAAAUQAaebs0Pi/Q/IjXBeCv77D9yHMdxHMcLQAAAAAAAAOw/dNFFF1104T8AAAAAAADtPz3P8zzP8wRAfQzOx+B8/D8T3mjq/NrzP57neZ7neQBAm2yyySabBEBmZmZmZmYWQNPS0tLS0v4/0UUXXXTR7T+W/GLJL5bsP7mnEZZ7GvE/jYyMjIyMEEA2lNdQXkMBQObtDIl5O/M/sRM7sRM79T95DeU1lNcIQG9ln0NqggFAt23btm3b+D8AAAAAAMADQC+66KKLLuo/ZmZmZmZm9z9ERERERETsP2X8dqkn4/c/AAAAAAAA9j/GW9nnkJoQQJ7neZ7neSJAPvjggw8++D8eHh4eHh4CQJqZmZmZmfE/DcE62rxPAUCrqqqqqqoGQFVVVVVV1fE/kMH5GJyPEUAMwzAMwzAEQG9605ve9PY/yWfdYIp8AkCMLrrooov+P1VVVVVVVdU/U0/Gb5d68j+GYRiGYRgSQB+D8zE4H/M/q6qqqqoqEECO4ziO4zgAQKEv6Av6ggZAjfWhsT409j9paWlpaWn5P27btm3btvM/8GzUdzbq+z9mZmZmZuYWQD3P8zzP8wJAAAAAAAAA7D9EREREREQEQC+hvYT2Evo/pqWlpaWlBUA/o8TPKPHzP319fX19ff0/AAAAAADAIUAAAAAAAAD1P7SYzmI6iwlALaazmM5i6j9aTGcxncX0P8YznvGMZ+w/uB6F61G4/j8KXk7ByynwP97d3d3d3QlAAAAAAADA8D+4HoXrUbgGQKuqqqqqqvo/MVDCG02d7z8tLS0tLS0XQLUrUbsStfM/7Lqu67quC0CrqqqqqioEQGZmZmZmZhpAivRA5ewW/j/YUF5DeQ0NQCELWchCFgBAVVVVVVVVDUCMLrrooov+PwAAAAAAgPI/F1100UUXHUCIh4eHh4fvP9C6wRT5rOs/qJzdwq/GBECl7stjK4L2P42w3NMIyw1AwdOt+WGRAkDd0wjLPY3wPxJ3xB1xRxBAchzHcRzH8T+K9EDl7BYGQBQ7sRM7sQtAVVVVVVVV9z+RhSxkIQsVQDqQaIXNgfQ/AAAAAAAA6j+J2pWoXYnyPy0tLS0tLf0/HMdxHMdx7D8AAAAAAAAGQFVVVVVVVRVA+qRP+qRP6j8xDMMwDMPgPwAAAAAAAAZA9gxEpSN79j+DNEiDNEgDQGxF0HBS9w1Ad3d3d3d3C0AAAAAAAAAAQNInfdInffI/0o9+9KMf7T8UO7ETO7H7P57YiZ3Yie0/Ay3QAi3Q8j8lSZIkSZLwP/MaymsorytA8UZT59ce8j88PDw8PDwcQDMzMzMzM/s/EpZ7GmG5IUAcx3Ecx3H6Pw3SIA3SIBFAVVVVVVVVCUBU8HIKXk7xP/WdjfrORhVAF1100UUXJ0BhinzWDaYUQJz6PbfEqe8/riAmVxCT+z9VVVVVVVXwP6ldidqVqP0/NcJyTyMsB0DNzMzMzMz0P/msG0yRz/o/AAAAAAAABEDNzMzMzMwUQHTRRRdddC1AMzMzMzMz9z+ykIUsZCH7P+Kk7stjK/I/iIeHh4eHD0CY0F5CewkFQH5GiZ9R4vc/Yid2Yid2EkAAAAAAAAD+P7dt27Zt2+4/7RvWvmHtC0BVVVVVVVXpP6uqqqqqqvo/0UUXXXTR/T94eHh4eHgqQAAAAAAAAPA/VVVVVVVVAUBF7UrUrkT9P+mXfumXfvk/lVJKKaWUAkAXXXTRRRftP3UW01lMZwlAoryG8hrK+z9P7MRO7MTyP8Zvl3oyfus/VVVVVVVV9T8PDw8PDw/vPw/MtQNz7fA/MzMzMzMz9D89Gb9d6skAQCD4gR/4ge8/wnJPIyz35D+mpaWlpaUJQPQ8z/M8z+M/AAAAAABAMkDipO7LYyvyPzMzMzMzMwtArggaTuq+7D8ndmIndmIfQFpaWlpaWgJAy7d8y7d8A0B83ete97oHQAAAAAAAgChAyz6H1ATj/T8AAAAAAAD8P1r5CXFWfvI/dEhNMN7KBkAWWGCBBRb4P6uqqqqqKgRA09LS0tLSBkCSJEmSJEnyP3D5lm/5lg9AxU7sxE7sHkDCFPmsG0zxP+FXYyI9UPk/XI/C9ShcD0B605ve9Kb3PxBG2rECYfQ/OB+D8zE4D0DIQhaykIUAQAAAAAAAwBdA1/ywSBl4+j8AAAAAAAD4P2wor6G8hgpA0M/Pz8/P/z89CtejcD3qPwAAAAAAgAVACsZb2eeQ6j8gdFTgi6vvP8IHH3zwwfc/VVVVVVVV9T8cx3Ecx3H4Pxj0BX1BXxRAnud5nud5DkCRz7rBFPn0P47jOI7jOPA/AAAAAAAALEDzGsprKK8BQGfr0G+2Du0/tm9Y+4a1B0AgFikDT7f2P4iHh4eHh/8/nN70pje9E0DNzMzMzMwEQKuqqqqqqvY/IQtZyEIW4j/nnHPOOef0P2lpaWlpaQlAq6qqqqqqAkAcx3Ecx3HsP3A+BudjcO4/WchCFrKQAUAYaccKhJH2P2ZmZmZmZg5Abtu2bdu2/T/tJbSX0F7yP6OLLrroovM/0UUXXXTRG0CVUkoppZTyP2ZmZmZmZgdAAAAAAAAA8D8IH3zwwQcHQGlpaWlpafE/2NfX19fX9z988MEHH3zwP27btm3bthtAwzAMwzAM8z/JyMjIyMj4P+O3Sz0ZvwVAkYUsZCEL6T9Uzm7hV2PyP9BRgS+ufvA/ZmZmZmZm8z+amZmZmZn1P7y7u7u7uwdAwRZswRZs8T+rqqqqqqryPwAAAAAAgPY/oryG8hrKC0CnN73pTW8CQHrTm970pvc/AAAAAAAAAEApXI/C9Sj0P37f933f9wVAzczMzMzMFEBJkiRJkiQFQG7btm3btu0/r6G8hvIaAkAXXXTRRRfxPzMzMzMzM+s/AAAAAAAA7D9u27Zt27YrQAAAAAAAAAhAd8QdcUfc+T9P7MRO7MQGQKuqqqqqqgVAd3d3d3d3C0AAAAAAAAAYQDymBvaOqQFAxMPDw8PD8z9CHdRBHdQBQFnJSlaykgVAU0/Gb5d68j8AAAAAAAAAQBdddNFFF/E/i+ksprOY/j+GLGQhC1n4P0YXXXTRRRtAERERERER4T9NWVPWlDX9PwAAAAAAAA5A8GzUdzbq6z8AAAAAAAAWQIZfjYn0QPU/bbLJJpts8j8AAAAAAADrP1/QF/QFfRVADM7H4HwMDkBRXkN5DeUrQAAAAAAAAOA/v/aQy4qB8j+pXYnalaj1P3rTm970pu8/sRM7sRM7IUA655xzzjkLQII8JchTggxAq6qqqqqq4j+rqqqqqqruP3Icx3EcxwFA6Hme53meD0Cjiy666KLrPwAAAAAAAPA/5QpicgUx6T+Vgadb88MCQAAAAAAAAAxA0V5CewntFUDi4eHh4eEVQM8tcer33PI/q6qqqqqqIkCSJEmSJEnyPzuxEzuxEzBAq6qqqqqq/D9aN5gin3ULQOLh4eHh4QNAA5020GkD7T+KoiiKoij6P3E9CtejcO0/3t3d3d3d7T9VVVVVVVXpPxvKayivoew/AAAAAAAAIkAsvuIrvuIDQDMzMzMzMwNA2Ymd2ImdHkBVVVVVVVX1P7UrUbsStQtAAAAAAAAA8T/wwQcffPAdQL3pTW960+s/q6qqqqqq7D+xEzuxEzsVQHOYwxzmMPc/fgT3EdxHAEAT2ktoL6HtPwAAAAAAAPA/UPqkT/qkD0ALWchCFrIYQCVJkiRJkvQ/q6qqqqqq6j9u27Zt27b1P3Icx3EcxwFA2FBeQ3kNB0CDl1Pwcgr+PwzDMAzDMPw/FDuxEzux+z/kOI7jOI7rPymllFJKKRFAs3XoN1uH7j/FTuzETuwUQJAGaZAGaRBAB+bagbl28D+KndiJndgZQLD4iq/4iu8/MzMzMzMzJkCO4ziO4zjyP2lpaWlpaRVA7+7u7u7u7j9edtlll132P9/0pje96fk/MzMzMzMzA0Cjiy666KL7PwAAAAAAABRA7Ovr6+vr+z8AAAAAAAAAQE422WSTTfY/RXqgcnYLB0A26jsb9Z3tP1VVVVVV1RJACW80dX7t8T8KxlvZ55DqP59DaoLxVvY/VVVVVVVV9T900UUXXXTxP5U1ZU1ZU/Y/qfvy2IqgAUDDSd2Xx1YMQMjgfAzOxwhArA+N9aGx7j8AAAAAAADsP9VKrdRKrfQ/wnJPIyz35D8PzLUDc+3wP6RwPQrXowJAmNBeQnsJ9T/nY3A+BufzP6c3velNb/4/AAAAAAAA8D/43nvvvffuP+Q4juM4jvM/Sp/0SZ/08T8AAAAAAAD/P1100UUXXRRAeDkFL6fg9T8HdVAHdVD3PwAAAAAAAPA/FrKQhSxkEUDhgw8++ODzP+zETuzEThBAxSVDsI42/z+WfQ6pCcb7P/KUIE8J8gRA6aKLLrro8j/0BX1BX9D3PyVJkiRJkgRAAAAAAAAA/j8=",
          "dtype": "f8"
         }
        }
       ],
       "layout": {
        "template": {
         "data": {
          "bar": [
           {
            "error_x": {
             "color": "#2a3f5f"
            },
            "error_y": {
             "color": "#2a3f5f"
            },
            "marker": {
             "line": {
              "color": "white",
              "width": 0.5
             },
             "pattern": {
              "fillmode": "overlay",
              "size": 10,
              "solidity": 0.2
             }
            },
            "type": "bar"
           }
          ],
          "barpolar": [
           {
            "marker": {
             "line": {
              "color": "white",
              "width": 0.5
             },
             "pattern": {
              "fillmode": "overlay",
              "size": 10,
              "solidity": 0.2
             }
            },
            "type": "barpolar"
           }
          ],
          "carpet": [
           {
            "aaxis": {
             "endlinecolor": "#2a3f5f",
             "gridcolor": "#C8D4E3",
             "linecolor": "#C8D4E3",
             "minorgridcolor": "#C8D4E3",
             "startlinecolor": "#2a3f5f"
            },
            "baxis": {
             "endlinecolor": "#2a3f5f",
             "gridcolor": "#C8D4E3",
             "linecolor": "#C8D4E3",
             "minorgridcolor": "#C8D4E3",
             "startlinecolor": "#2a3f5f"
            },
            "type": "carpet"
           }
          ],
          "choropleth": [
           {
            "colorbar": {
             "outlinewidth": 0,
             "ticks": ""
            },
            "type": "choropleth"
           }
          ],
          "contour": [
           {
            "colorbar": {
             "outlinewidth": 0,
             "ticks": ""
            },
            "colorscale": [
             [
              0,
              "#0d0887"
             ],
             [
              0.1111111111111111,
              "#46039f"
             ],
             [
              0.2222222222222222,
              "#7201a8"
             ],
             [
              0.3333333333333333,
              "#9c179e"
             ],
             [
              0.4444444444444444,
              "#bd3786"
             ],
             [
              0.5555555555555556,
              "#d8576b"
             ],
             [
              0.6666666666666666,
              "#ed7953"
             ],
             [
              0.7777777777777778,
              "#fb9f3a"
             ],
             [
              0.8888888888888888,
              "#fdca26"
             ],
             [
              1,
              "#f0f921"
             ]
            ],
            "type": "contour"
           }
          ],
          "contourcarpet": [
           {
            "colorbar": {
             "outlinewidth": 0,
             "ticks": ""
            },
            "type": "contourcarpet"
           }
          ],
          "heatmap": [
           {
            "colorbar": {
             "outlinewidth": 0,
             "ticks": ""
            },
            "colorscale": [
             [
              0,
              "#0d0887"
             ],
             [
              0.1111111111111111,
              "#46039f"
             ],
             [
              0.2222222222222222,
              "#7201a8"
             ],
             [
              0.3333333333333333,
              "#9c179e"
             ],
             [
              0.4444444444444444,
              "#bd3786"
             ],
             [
              0.5555555555555556,
              "#d8576b"
             ],
             [
              0.6666666666666666,
              "#ed7953"
             ],
             [
              0.7777777777777778,
              "#fb9f3a"
             ],
             [
              0.8888888888888888,
              "#fdca26"
             ],
             [
              1,
              "#f0f921"
             ]
            ],
            "type": "heatmap"
           }
          ],
          "histogram": [
           {
            "marker": {
             "pattern": {
              "fillmode": "overlay",
              "size": 10,
              "solidity": 0.2
             }
            },
            "type": "histogram"
           }
          ],
          "histogram2d": [
           {
            "colorbar": {
             "outlinewidth": 0,
             "ticks": ""
            },
            "colorscale": [
             [
              0,
              "#0d0887"
             ],
             [
              0.1111111111111111,
              "#46039f"
             ],
             [
              0.2222222222222222,
              "#7201a8"
             ],
             [
              0.3333333333333333,
              "#9c179e"
             ],
             [
              0.4444444444444444,
              "#bd3786"
             ],
             [
              0.5555555555555556,
              "#d8576b"
             ],
             [
              0.6666666666666666,
              "#ed7953"
             ],
             [
              0.7777777777777778,
              "#fb9f3a"
             ],
             [
              0.8888888888888888,
              "#fdca26"
             ],
             [
              1,
              "#f0f921"
             ]
            ],
            "type": "histogram2d"
           }
          ],
          "histogram2dcontour": [
           {
            "colorbar": {
             "outlinewidth": 0,
             "ticks": ""
            },
            "colorscale": [
             [
              0,
              "#0d0887"
             ],
             [
              0.1111111111111111,
              "#46039f"
             ],
             [
              0.2222222222222222,
              "#7201a8"
             ],
             [
              0.3333333333333333,
              "#9c179e"
             ],
             [
              0.4444444444444444,
              "#bd3786"
             ],
             [
              0.5555555555555556,
              "#d8576b"
             ],
             [
              0.6666666666666666,
              "#ed7953"
             ],
             [
              0.7777777777777778,
              "#fb9f3a"
             ],
             [
              0.8888888888888888,
              "#fdca26"
             ],
             [
              1,
              "#f0f921"
             ]
            ],
            "type": "histogram2dcontour"
           }
          ],
          "mesh3d": [
           {
            "colorbar": {
             "outlinewidth": 0,
             "ticks": ""
            },
            "type": "mesh3d"
           }
          ],
          "parcoords": [
           {
            "line": {
             "colorbar": {
              "outlinewidth": 0,
              "ticks": ""
             }
            },
            "type": "parcoords"
           }
          ],
          "pie": [
           {
            "automargin": true,
            "type": "pie"
           }
          ],
          "scatter": [
           {
            "fillpattern": {
             "fillmode": "overlay",
             "size": 10,
             "solidity": 0.2
            },
            "type": "scatter"
           }
          ],
          "scatter3d": [
           {
            "line": {
             "colorbar": {
              "outlinewidth": 0,
              "ticks": ""
             }
            },
            "marker": {
             "colorbar": {
              "outlinewidth": 0,
              "ticks": ""
             }
            },
            "type": "scatter3d"
           }
          ],
          "scattercarpet": [
           {
            "marker": {
             "colorbar": {
              "outlinewidth": 0,
              "ticks": ""
             }
            },
            "type": "scattercarpet"
           }
          ],
          "scattergeo": [
           {
            "marker": {
             "colorbar": {
              "outlinewidth": 0,
              "ticks": ""
             }
            },
            "type": "scattergeo"
           }
          ],
          "scattergl": [
           {
            "marker": {
             "colorbar": {
              "outlinewidth": 0,
              "ticks": ""
             }
            },
            "type": "scattergl"
           }
          ],
          "scattermap": [
           {
            "marker": {
             "colorbar": {
              "outlinewidth": 0,
              "ticks": ""
             }
            },
            "type": "scattermap"
           }
          ],
          "scattermapbox": [
           {
            "marker": {
             "colorbar": {
              "outlinewidth": 0,
              "ticks": ""
             }
            },
            "type": "scattermapbox"
           }
          ],
          "scatterpolar": [
           {
            "marker": {
             "colorbar": {
              "outlinewidth": 0,
              "ticks": ""
             }
            },
            "type": "scatterpolar"
           }
          ],
          "scatterpolargl": [
           {
            "marker": {
             "colorbar": {
              "outlinewidth": 0,
              "ticks": ""
             }
            },
            "type": "scatterpolargl"
           }
          ],
          "scatterternary": [
           {
            "marker": {
             "colorbar": {
              "outlinewidth": 0,
              "ticks": ""
             }
            },
            "type": "scatterternary"
           }
          ],
          "surface": [
           {
            "colorbar": {
             "outlinewidth": 0,
             "ticks": ""
            },
            "colorscale": [
             [
              0,
              "#0d0887"
             ],
             [
              0.1111111111111111,
              "#46039f"
             ],
             [
              0.2222222222222222,
              "#7201a8"
             ],
             [
              0.3333333333333333,
              "#9c179e"
             ],
             [
              0.4444444444444444,
              "#bd3786"
             ],
             [
              0.5555555555555556,
              "#d8576b"
             ],
             [
              0.6666666666666666,
              "#ed7953"
             ],
             [
              0.7777777777777778,
              "#fb9f3a"
             ],
             [
              0.8888888888888888,
              "#fdca26"
             ],
             [
              1,
              "#f0f921"
             ]
            ],
            "type": "surface"
           }
          ],
          "table": [
           {
            "cells": {
             "fill": {
              "color": "#EBF0F8"
             },
             "line": {
              "color": "white"
             }
            },
            "header": {
             "fill": {
              "color": "#C8D4E3"
             },
             "line": {
              "color": "white"
             }
            },
            "type": "table"
           }
          ]
         },
         "layout": {
          "annotationdefaults": {
           "arrowcolor": "#2a3f5f",
           "arrowhead": 0,
           "arrowwidth": 1
          },
          "autotypenumbers": "strict",
          "coloraxis": {
           "colorbar": {
            "outlinewidth": 0,
            "ticks": ""
           }
          },
          "colorscale": {
           "diverging": [
            [
             0,
             "#8e0152"
            ],
            [
             0.1,
             "#c51b7d"
            ],
            [
             0.2,
             "#de77ae"
            ],
            [
             0.3,
             "#f1b6da"
            ],
            [
             0.4,
             "#fde0ef"
            ],
            [
             0.5,
             "#f7f7f7"
            ],
            [
             0.6,
             "#e6f5d0"
            ],
            [
             0.7,
             "#b8e186"
            ],
            [
             0.8,
             "#7fbc41"
            ],
            [
             0.9,
             "#4d9221"
            ],
            [
             1,
             "#276419"
            ]
           ],
           "sequential": [
            [
             0,
             "#0d0887"
            ],
            [
             0.1111111111111111,
             "#46039f"
            ],
            [
             0.2222222222222222,
             "#7201a8"
            ],
            [
             0.3333333333333333,
             "#9c179e"
            ],
            [
             0.4444444444444444,
             "#bd3786"
            ],
            [
             0.5555555555555556,
             "#d8576b"
            ],
            [
             0.6666666666666666,
             "#ed7953"
            ],
            [
             0.7777777777777778,
             "#fb9f3a"
            ],
            [
             0.8888888888888888,
             "#fdca26"
            ],
            [
             1,
             "#f0f921"
            ]
           ],
           "sequentialminus": [
            [
             0,
             "#0d0887"
            ],
            [
             0.1111111111111111,
             "#46039f"
            ],
            [
             0.2222222222222222,
             "#7201a8"
            ],
            [
             0.3333333333333333,
             "#9c179e"
            ],
            [
             0.4444444444444444,
             "#bd3786"
            ],
            [
             0.5555555555555556,
             "#d8576b"
            ],
            [
             0.6666666666666666,
             "#ed7953"
            ],
            [
             0.7777777777777778,
             "#fb9f3a"
            ],
            [
             0.8888888888888888,
             "#fdca26"
            ],
            [
             1,
             "#f0f921"
            ]
           ]
          },
          "colorway": [
           "#636efa",
           "#EF553B",
           "#00cc96",
           "#ab63fa",
           "#FFA15A",
           "#19d3f3",
           "#FF6692",
           "#B6E880",
           "#FF97FF",
           "#FECB52"
          ],
          "font": {
           "color": "#2a3f5f"
          },
          "geo": {
           "bgcolor": "white",
           "lakecolor": "white",
           "landcolor": "white",
           "showlakes": true,
           "showland": true,
           "subunitcolor": "#C8D4E3"
          },
          "hoverlabel": {
           "align": "left"
          },
          "hovermode": "closest",
          "mapbox": {
           "style": "light"
          },
          "paper_bgcolor": "white",
          "plot_bgcolor": "white",
          "polar": {
           "angularaxis": {
            "gridcolor": "#EBF0F8",
            "linecolor": "#EBF0F8",
            "ticks": ""
           },
           "bgcolor": "white",
           "radialaxis": {
            "gridcolor": "#EBF0F8",
            "linecolor": "#EBF0F8",
            "ticks": ""
           }
          },
          "scene": {
           "xaxis": {
            "backgroundcolor": "white",
            "gridcolor": "#DFE8F3",
            "gridwidth": 2,
            "linecolor": "#EBF0F8",
            "showbackground": true,
            "ticks": "",
            "zerolinecolor": "#EBF0F8"
           },
           "yaxis": {
            "backgroundcolor": "white",
            "gridcolor": "#DFE8F3",
            "gridwidth": 2,
            "linecolor": "#EBF0F8",
            "showbackground": true,
            "ticks": "",
            "zerolinecolor": "#EBF0F8"
           },
           "zaxis": {
            "backgroundcolor": "white",
            "gridcolor": "#DFE8F3",
            "gridwidth": 2,
            "linecolor": "#EBF0F8",
            "showbackground": true,
            "ticks": "",
            "zerolinecolor": "#EBF0F8"
           }
          },
          "shapedefaults": {
           "line": {
            "color": "#2a3f5f"
           }
          },
          "ternary": {
           "aaxis": {
            "gridcolor": "#DFE8F3",
            "linecolor": "#A2B1C6",
            "ticks": ""
           },
           "baxis": {
            "gridcolor": "#DFE8F3",
            "linecolor": "#A2B1C6",
            "ticks": ""
           },
           "bgcolor": "white",
           "caxis": {
            "gridcolor": "#DFE8F3",
            "linecolor": "#A2B1C6",
            "ticks": ""
           }
          },
          "title": {
           "x": 0.05
          },
          "xaxis": {
           "automargin": true,
           "gridcolor": "#EBF0F8",
           "linecolor": "#EBF0F8",
           "ticks": "",
           "title": {
            "standoff": 15
           },
           "zerolinecolor": "#EBF0F8",
           "zerolinewidth": 2
          },
          "yaxis": {
           "automargin": true,
           "gridcolor": "#EBF0F8",
           "linecolor": "#EBF0F8",
           "ticks": "",
           "title": {
            "standoff": 15
           },
           "zerolinecolor": "#EBF0F8",
           "zerolinewidth": 2
          }
         }
        },
        "title": {
         "text": "Supply Ratio vs. Driver Activity"
        },
        "xaxis": {
         "title": {
          "text": "Driver Activity (Drivers Active Per Hour)"
         }
        },
        "yaxis": {
         "title": {
          "text": "Supply Ratio (Rides Completed per Driver Active per Hour)"
         }
        }
       }
      }
     },
     "metadata": {},
     "output_type": "display_data"
    }
   ],
   "source": [
    "fig = go.Figure()\n",
    "fig.add_trace(go.Scatter(x=data['Drivers Active Per Hour'], \n",
    "                         y=data['Supply Ratio'], mode='markers')) #trace same as data plot\n",
    "fig.update_layout(\n",
    "    title='Supply Ratio vs. Driver Activity',\n",
    "    xaxis_title='Driver Activity (Drivers Active Per Hour)',\n",
    "    yaxis_title='Supply Ratio (Rides Completed per Driver Active per Hour)'\n",
    ")\n",
    "fig.show()"
   ]
  },
  {
   "cell_type": "markdown",
   "metadata": {},
   "source": [
    "INSIGHTS\n",
    "\n",
    "* Driver activity low, supply ratio high\n",
    "* Driver activity high, supply ratio low\n",
    "Individual drivers are completing fewer rides as the no. of drivers active per hr increase.\n",
    "\n",
    "* Around 20-30 active drivers per hr the supply ratio flattens.\n",
    "* Around 40-50 active drivers per hr the supply ratio is very low (around 1 ride per driver).\n",
    "This suggests that demand may not be high enough to keep every river busy when there are too many drivers active and also indicates market saturation.\n",
    "\n",
    "Suggestions\n",
    "\n",
    "* Could introduce bonuses and surge pricing for ddrivers in peak demand times.\n",
    "* Limit no. of active drivers during low demand hrs for efficiency.\n",
    "* Implement incentives for underserved areas to balance demand.\n",
    "* Provide real-time data on demand trends so drivers can make informed decisions about when and where to drive.\n",
    "\n"
   ]
  }
 ],
 "metadata": {
  "kernelspec": {
   "display_name": "venv",
   "language": "python",
   "name": "python3"
  },
  "language_info": {
   "codemirror_mode": {
    "name": "ipython",
    "version": 3
   },
   "file_extension": ".py",
   "mimetype": "text/x-python",
   "name": "python",
   "nbconvert_exporter": "python",
   "pygments_lexer": "ipython3",
   "version": "3.12.3"
  }
 },
 "nbformat": 4,
 "nbformat_minor": 2
}
